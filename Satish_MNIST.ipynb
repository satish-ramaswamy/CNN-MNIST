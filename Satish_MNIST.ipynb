{
 "cells": [
  {
   "cell_type": "code",
   "execution_count": 61,
   "metadata": {},
   "outputs": [],
   "source": [
    "# Import libraries\n",
    "import keras\n",
    "import numpy as np\n",
    "from keras.datasets import mnist\n",
    "from keras.preprocessing.image import ImageDataGenerator\n",
    "from keras.models import Sequential\n",
    "from keras.layers import Dense, Dropout, Activation, Flatten, Conv2D, MaxPooling2D\n",
    "from keras import backend as K\n",
    "import matplotlib.pyplot as plt\n",
    "%matplotlib inline"
   ]
  },
  {
   "cell_type": "code",
   "execution_count": 62,
   "metadata": {},
   "outputs": [
    {
     "name": "stdout",
     "output_type": "stream",
     "text": [
      "x_train.shape: (60000, 28, 28)  y_train.shape:  (60000,)  x_test.shape:  (10000, 28, 28)  y_test.shape:  (10000,)\n"
     ]
    }
   ],
   "source": [
    "(x_train, y_train), (x_test, y_test) = mnist.load_data()\n",
    "print ('x_train.shape:', x_train.shape, ' y_train.shape: ', y_train.shape, ' x_test.shape: ', x_test.shape, ' y_test.shape: ', y_test.shape)"
   ]
  },
  {
   "cell_type": "code",
   "execution_count": 63,
   "metadata": {},
   "outputs": [
    {
     "data": {
      "image/png": "[encoded data removed]",
      "text/plain": [
       "<Figure size 576x216 with 10 Axes>"
      ]
     },
     "metadata": {},
     "output_type": "display_data"
    }
   ],
   "source": [
    "fig = plt.figure(figsize=(8,3))\n",
    "for i in range(10):\n",
    "    ax = fig.add_subplot(2, 5, 1 + i, xticks=[], yticks=[])\n",
    "    imageNumber = np.random.randint(x_train.shape[0])\n",
    "    imageToPlot = x_train[imageNumber, ::].reshape(28,28)\n",
    "    labelToPlot = y_train[imageNumber]\n",
    "    title = str(labelToPlot)\n",
    "    # print (labelToPlot)\n",
    "    ax.set_title(title)\n",
    "    plt.imshow(imageToPlot)\n",
    "    \n",
    "plt.show()"
   ]
  },
  {
   "cell_type": "code",
   "execution_count": 64,
   "metadata": {},
   "outputs": [],
   "source": [
    "## Getting a subset of training & test samples. \n",
    "## If the sizes of training & test are small, this is not needed\n",
    "predict_idx = np.random.randint(x_train.shape[0], size=20)\n",
    "x_pred = x_train[predict_idx]\n",
    "y_pred = y_train[predict_idx]\n",
    "idx = np.random.randint(x_train.shape[0], size = 20000)\n",
    "x_train = x_train[idx]\n",
    "y_train = y_train[idx]\n",
    "idx = np.random.randint(x_test.shape[0], size = 5000)\n",
    "x_test = x_test[idx]\n",
    "y_test = y_test[idx]\n",
    "\n",
    "# Convert the dtype from uint to float32 since we need to divide by 255\n",
    "x_train = x_train.astype('float32')\n",
    "x_test = x_test.astype('float32')\n",
    "\n",
    "x_train = x_train/255\n",
    "x_test = x_test / 255\n",
    "\n",
    "samples = x_train.shape[0]\n",
    "img_rows = x_train.shape[1]\n",
    "img_cols = x_train.shape[2]\n",
    "features = 1\n",
    "input_shape = (img_rows, img_cols, features)\n",
    "num_classes = 10\n",
    "batch_size=128\n",
    "epochs=10\n",
    "\n",
    "# Reshape the x & y train & test data.\n",
    "x_train = x_train.reshape(samples, img_rows, img_cols, features)\n",
    "x_test = x_test.reshape(x_test.shape[0], img_rows, img_cols, features)\n",
    "\n",
    "# create one-hot encoded data with following:\n",
    "y_train = keras.utils.to_categorical(y_train, num_classes)\n",
    "y_test = keras.utils.to_categorical(y_test, num_classes)"
   ]
  },
  {
   "cell_type": "code",
   "execution_count": 65,
   "metadata": {},
   "outputs": [],
   "source": [
    "model = Sequential()\n",
    "model.add(Conv2D(32, kernel_size=(3,3), activation='relu', input_shape=input_shape))\n",
    "model.add(Conv2D(64, kernel_size=(3,3), activation='relu'))\n",
    "model.add(MaxPooling2D(pool_size=(2,2)))\n",
    "model.add(Dropout(0.25))\n",
    "model.add(Flatten())\n",
    "model.add(Dense(128, activation='relu'))\n",
    "model.add(Dropout(0.5))\n",
    "model.add(Dense(num_classes, activation='softmax'))\n"
   ]
  },
  {
   "cell_type": "code",
   "execution_count": 66,
   "metadata": {},
   "outputs": [
    {
     "name": "stdout",
     "output_type": "stream",
     "text": [
      "Model: \"sequential_4\"\n",
      "_________________________________________________________________\n",
      "Layer (type)                 Output Shape              Param #   \n",
      "=================================================================\n",
      "conv2d_7 (Conv2D)            (None, 26, 26, 32)        320       \n",
      "_________________________________________________________________\n",
      "conv2d_8 (Conv2D)            (None, 24, 24, 64)        18496     \n",
      "_________________________________________________________________\n",
      "max_pooling2d_4 (MaxPooling2 (None, 12, 12, 64)        0         \n",
      "_________________________________________________________________\n",
      "dropout_7 (Dropout)          (None, 12, 12, 64)        0         \n",
      "_________________________________________________________________\n",
      "flatten_4 (Flatten)          (None, 9216)              0         \n",
      "_________________________________________________________________\n",
      "dense_7 (Dense)              (None, 128)               1179776   \n",
      "_________________________________________________________________\n",
      "dropout_8 (Dropout)          (None, 128)               0         \n",
      "_________________________________________________________________\n",
      "dense_8 (Dense)              (None, 10)                1290      \n",
      "=================================================================\n",
      "Total params: 1,199,882\n",
      "Trainable params: 1,199,882\n",
      "Non-trainable params: 0\n",
      "_________________________________________________________________\n"
     ]
    }
   ],
   "source": [
    "model.summary()"
   ]
  },
  {
   "cell_type": "code",
   "execution_count": 67,
   "metadata": {},
   "outputs": [],
   "source": [
    "model.compile(loss=keras.losses.categorical_crossentropy, optimizer=keras.optimizers.Adadelta(), metrics=['accuracy'])"
   ]
  },
  {
   "cell_type": "code",
   "execution_count": 68,
   "metadata": {},
   "outputs": [
    {
     "name": "stdout",
     "output_type": "stream",
     "text": [
      "Train on 20000 samples, validate on 5000 samples\n",
      "Epoch 1/10\n",
      "20000/20000 [==============================] - 51s 3ms/step - loss: 0.5128 - acc: 0.8399 - val_loss: 0.2365 - val_acc: 0.9316\n",
      "Epoch 2/10\n",
      "20000/20000 [==============================] - 45s 2ms/step - loss: 0.1630 - acc: 0.9501 - val_loss: 0.0868 - val_acc: 0.9686\n",
      "Epoch 3/10\n",
      "20000/20000 [==============================] - 46s 2ms/step - loss: 0.1070 - acc: 0.9678 - val_loss: 0.0813 - val_acc: 0.9762\n",
      "Epoch 4/10\n",
      "20000/20000 [==============================] - 48s 2ms/step - loss: 0.0858 - acc: 0.9747 - val_loss: 0.0700 - val_acc: 0.9782\n",
      "Epoch 5/10\n",
      "20000/20000 [==============================] - 46s 2ms/step - loss: 0.0713 - acc: 0.9777 - val_loss: 0.0571 - val_acc: 0.9816\n",
      "Epoch 6/10\n",
      "20000/20000 [==============================] - 45s 2ms/step - loss: 0.0576 - acc: 0.9819 - val_loss: 0.0505 - val_acc: 0.9842\n",
      "Epoch 7/10\n",
      "20000/20000 [==============================] - 48s 2ms/step - loss: 0.0503 - acc: 0.9835 - val_loss: 0.0515 - val_acc: 0.9830\n",
      "Epoch 8/10\n",
      "20000/20000 [==============================] - 47s 2ms/step - loss: 0.0442 - acc: 0.9858 - val_loss: 0.0492 - val_acc: 0.9830\n",
      "Epoch 9/10\n",
      "20000/20000 [==============================] - 54s 3ms/step - loss: 0.0383 - acc: 0.9875 - val_loss: 0.0884 - val_acc: 0.9712\n",
      "Epoch 10/10\n",
      "20000/20000 [==============================] - 48s 2ms/step - loss: 0.0339 - acc: 0.9895 - val_loss: 0.0593 - val_acc: 0.9826\n"
     ]
    },
    {
     "data": {
      "text/plain": [
       "<keras.callbacks.History at 0x21ae2cc9278>"
      ]
     },
     "execution_count": 68,
     "metadata": {},
     "output_type": "execute_result"
    }
   ],
   "source": [
    "model.fit(x_train, y_train, batch_size=batch_size, epochs=epochs, verbose=1, validation_data=(x_test, y_test))"
   ]
  },
  {
   "cell_type": "code",
   "execution_count": 69,
   "metadata": {},
   "outputs": [
    {
     "name": "stdout",
     "output_type": "stream",
     "text": [
      "5000/5000 [==============================] - 5s 992us/step\n"
     ]
    },
    {
     "data": {
      "text/plain": [
       "[0.05926300503796665, 0.9826]"
      ]
     },
     "execution_count": 69,
     "metadata": {},
     "output_type": "execute_result"
    }
   ],
   "source": [
    "model.evaluate(x_test, y_test)"
   ]
  },
  {
   "cell_type": "code",
   "execution_count": 70,
   "metadata": {},
   "outputs": [
    {
     "name": "stdout",
     "output_type": "stream",
     "text": [
      "x_train.shape: (20000, 28, 28, 1)  y_train.shape:  (20000, 10)  x_test.shape:  (5000, 28, 28, 1)  y_test.shape:  (5000, 10)\n"
     ]
    }
   ],
   "source": [
    "print ('x_train.shape:', x_train.shape, ' y_train.shape: ', y_train.shape, ' x_test.shape: ', x_test.shape, ' y_test.shape: ', y_test.shape)"
   ]
  },
  {
   "cell_type": "code",
   "execution_count": 71,
   "metadata": {},
   "outputs": [
    {
     "data": {
      "image/png": "[encoded data removed]",
      "text/plain": [
       "<Figure size 576x216 with 10 Axes>"
      ]
     },
     "metadata": {},
     "output_type": "display_data"
    }
   ],
   "source": [
    "# print (x_pred.shape)\n",
    "\n",
    "fig = plt.figure(figsize=(8,3))\n",
    "\n",
    "for i in range(10):\n",
    "    ax = fig.add_subplot(2, 5, 1 + i, xticks=[], yticks=[])\n",
    "    imageNumber = i\n",
    "    predictions = model.predict(x_pred[imageNumber].reshape(1, 28, 28, 1))\n",
    "    imageToPlot = x_pred[imageNumber].reshape(28, 28)\n",
    "    labelToPlot = predictions.argmax()\n",
    "    # print (labelToPlot)\n",
    "    title = str(labelToPlot)\n",
    "    ax.set_title(title)\n",
    "    plt.imshow(imageToPlot, cmap='Greys')\n",
    "\n",
    "plt.show()\n",
    "\n"
   ]
  },
  {
   "cell_type": "code",
   "execution_count": null,
   "metadata": {},
   "outputs": [],
   "source": []
  }
 ],
 "metadata": {
  "kernelspec": {
   "display_name": "Python 3",
   "language": "python",
   "name": "python3"
  }
 },
 "nbformat": 4,
 "nbformat_minor": 2
}
